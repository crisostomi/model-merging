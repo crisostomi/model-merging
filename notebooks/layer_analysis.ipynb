{
 "cells": [
  {
   "cell_type": "markdown",
   "id": "57820eba",
   "metadata": {},
   "source": [
    "## Imports"
   ]
  },
  {
   "cell_type": "code",
   "execution_count": 1,
   "id": "963c2f99",
   "metadata": {},
   "outputs": [
    {
     "name": "stderr",
     "output_type": "stream",
     "text": [
      "/media/donato/Extra-storage/Code/model-merging/libraries/model-merging/.venv/lib/python3.11/site-packages/tqdm/auto.py:21: TqdmWarning: IProgress not found. Please update jupyter and ipywidgets. See https://ipywidgets.readthedocs.io/en/stable/user_install.html\n",
      "  from .autonotebook import tqdm as notebook_tqdm\n"
     ]
    },
    {
     "data": {
      "text/html": [
       "<pre style=\"white-space:pre;overflow-x:auto;line-height:normal;font-family:Menlo,'DejaVu Sans Mono',consolas,'Courier New',monospace\"><span style=\"color: #7fbfbf; text-decoration-color: #7fbfbf\">[10:23:21] </span><span style=\"color: #000080; text-decoration-color: #000080\">INFO    </span> PyTorch version <span style=\"color: #008080; text-decoration-color: #008080; font-weight: bold\">2.8</span>.<span style=\"color: #008080; text-decoration-color: #008080; font-weight: bold\">0</span> available.                                                   <a href=\"file:///media/donato/Extra-storage/Code/model-merging/libraries/model-merging/.venv/lib/python3.11/site-packages/datasets/config.py\" target=\"_blank\"><span style=\"color: #7f7f7f; text-decoration-color: #7f7f7f\">config.py</span></a><span style=\"color: #7f7f7f; text-decoration-color: #7f7f7f\">:</span><a href=\"file:///media/donato/Extra-storage/Code/model-merging/libraries/model-merging/.venv/lib/python3.11/site-packages/datasets/config.py#54\" target=\"_blank\"><span style=\"color: #7f7f7f; text-decoration-color: #7f7f7f\">54</span></a>\n",
       "</pre>\n"
      ],
      "text/plain": [
       "\u001b[2;36m[10:23:21]\u001b[0m\u001b[2;36m \u001b[0m\u001b[34mINFO    \u001b[0m PyTorch version \u001b[1;36m2.8\u001b[0m.\u001b[1;36m0\u001b[0m available.                                                   \u001b]8;id=351786;file:///media/donato/Extra-storage/Code/model-merging/libraries/model-merging/.venv/lib/python3.11/site-packages/datasets/config.py\u001b\\\u001b[2mconfig.py\u001b[0m\u001b]8;;\u001b\\\u001b[2m:\u001b[0m\u001b]8;id=293626;file:///media/donato/Extra-storage/Code/model-merging/libraries/model-merging/.venv/lib/python3.11/site-packages/datasets/config.py#54\u001b\\\u001b[2m54\u001b[0m\u001b]8;;\u001b\\\n"
      ]
     },
     "metadata": {},
     "output_type": "display_data"
    },
    {
     "name": "stderr",
     "output_type": "stream",
     "text": [
      "/media/donato/Extra-storage/Code/model-merging/libraries/model-merging/.venv/lib/python3.11/site-packages/lightning_utilities/core/imports.py:14: UserWarning: pkg_resources is deprecated as an API. See https://setuptools.pypa.io/en/latest/pkg_resources.html. The pkg_resources package is slated for removal as early as 2025-11-30. Refrain from using this package or pin to Setuptools<81.\n",
      "  import pkg_resources\n",
      "/media/donato/Extra-storage/Code/model-merging/libraries/model-merging/.venv/lib/python3.11/site-packages/transformers/utils/hub.py:124: FutureWarning: Using `TRANSFORMERS_CACHE` is deprecated and will be removed in v5 of Transformers. Use `HF_HOME` instead.\n",
      "  warnings.warn(\n",
      "/media/donato/Extra-storage/Code/model-merging/libraries/model-merging/src/model_merging/data/datamodule.py:206: UserWarning: \n",
      "The version_base parameter is not specified.\n",
      "Please specify a compatability version level, or None.\n",
      "Will assume defaults for version 1.1\n",
      "  @hydra.main(config_path=str(PROJECT_ROOT / \"conf\"), config_name=\"default\")\n"
     ]
    }
   ],
   "source": [
    "import copy\n",
    "import logging\n",
    "import os\n",
    "from pathlib import Path\n",
    "from typing import Any, Dict, List, Optional\n",
    "\n",
    "from model_merging.data.dataset import HFImageClassification\n",
    "from model_merging.model.image_classifier import ImageClassifier\n",
    "import open_clip\n",
    "import wandb\n",
    "\n",
    "import hydra\n",
    "import omegaconf\n",
    "import pytorch_lightning as pl\n",
    "import torch\n",
    "from hydra import compose, initialize\n",
    "from hydra.utils import instantiate\n",
    "from lightning.pytorch import Callback\n",
    "from omegaconf import DictConfig, ListConfig, OmegaConf\n",
    "from torch.nn.utils import parameters_to_vector, vector_to_parameters\n",
    "\n",
    "from nn_core.callbacks import NNTemplateCore\n",
    "from nn_core.common import PROJECT_ROOT\n",
    "from nn_core.common.utils import enforce_tags, seed_index_everything\n",
    "from nn_core.model_logging import NNLogger\n",
    "from nn_core.serialization import NNCheckpointIO\n",
    "\n",
    "# Force the execution of __init__.py if this file is executed directly.\n",
    "import model_merging  # noqa\n",
    "from model_merging.model.encoder import ClassificationHead, ImageEncoder\n",
    "from model_merging.model.heads import (\n",
    "    get_classification_head,\n",
    ")\n",
    "from model_merging.utils.io_utils import (\n",
    "    boilerplate,\n",
    "    load_model_from_hf,\n",
    ")\n",
    "from model_merging.utils.plots import plot_interactive_radar_chart\n",
    "from model_merging.utils.utils import (\n",
    "    build_callbacks,\n",
    "    get_finetuning_accuracies,\n",
    "    compute_avg_accuracy,\n",
    "    print_memory,\n",
    ")\n",
    "import json\n",
    "import os"
   ]
  },
  {
   "cell_type": "code",
   "execution_count": 6,
   "id": "277bd1ad",
   "metadata": {},
   "outputs": [
    {
     "name": "stderr",
     "output_type": "stream",
     "text": [
      "/media/donato/Extra-storage/Code/model-merging/libraries/model-merging/.venv/lib/python3.11/site-packages/IPython/core/async_helpers.py:129: UserWarning: \n",
      "'hydra/launcher/basic' is validated against ConfigStore schema with the same name.\n",
      "This behavior is deprecated in Hydra 1.1 and will be removed in Hydra 1.2.\n",
      "See https://hydra.cc/docs/1.2/upgrades/1.0_to_1.1/automatic_schema_matching for migration instructions.\n",
      "  coro.send(None)\n"
     ]
    }
   ],
   "source": [
    "import hydra\n",
    "from hydra import initialize, compose\n",
    "from typing import Dict, List\n",
    "\n",
    "hydra.core.global_hydra.GlobalHydra.instance().clear()\n",
    "initialize(version_base=None, config_path=str(\"../conf\"), job_name=\"layer_analysis\")\n",
    "cfg = compose(config_name=\"multitask\", overrides=[\"benchmark=hard\"])"
   ]
  },
  {
   "cell_type": "markdown",
   "id": "8864ff66",
   "metadata": {},
   "source": [
    "## Boilerplate"
   ]
  },
  {
   "cell_type": "code",
   "execution_count": 8,
   "id": "663a8159",
   "metadata": {},
   "outputs": [],
   "source": [
    "pylogger = logging.getLogger(__name__)"
   ]
  },
  {
   "cell_type": "code",
   "execution_count": 7,
   "id": "14d36cd7",
   "metadata": {},
   "outputs": [
    {
     "data": {
      "text/html": [
       "<pre style=\"white-space:pre;overflow-x:auto;line-height:normal;font-family:Menlo,'DejaVu Sans Mono',consolas,'Courier New',monospace\"><span style=\"color: #7fbfbf; text-decoration-color: #7fbfbf\">[10:28:14] </span><span style=\"color: #000080; text-decoration-color: #000080\">INFO    </span> Global seed set to <span style=\"color: #008080; text-decoration-color: #008080; font-weight: bold\">1608637542</span>                                                        <a href=\"file:///media/donato/Extra-storage/Code/model-merging/libraries/model-merging/.venv/lib/python3.11/site-packages/lightning_fabric/utilities/seed.py\" target=\"_blank\"><span style=\"color: #7f7f7f; text-decoration-color: #7f7f7f\">seed.py</span></a><span style=\"color: #7f7f7f; text-decoration-color: #7f7f7f\">:</span><a href=\"file:///media/donato/Extra-storage/Code/model-merging/libraries/model-merging/.venv/lib/python3.11/site-packages/lightning_fabric/utilities/seed.py#53\" target=\"_blank\"><span style=\"color: #7f7f7f; text-decoration-color: #7f7f7f\">53</span></a>\n",
       "</pre>\n"
      ],
      "text/plain": [
       "\u001b[2;36m[10:28:14]\u001b[0m\u001b[2;36m \u001b[0m\u001b[34mINFO    \u001b[0m Global seed set to \u001b[1;36m1608637542\u001b[0m                                                        \u001b]8;id=224430;file:///media/donato/Extra-storage/Code/model-merging/libraries/model-merging/.venv/lib/python3.11/site-packages/lightning_fabric/utilities/seed.py\u001b\\\u001b[2mseed.py\u001b[0m\u001b]8;;\u001b\\\u001b[2m:\u001b[0m\u001b]8;id=170108;file:///media/donato/Extra-storage/Code/model-merging/libraries/model-merging/.venv/lib/python3.11/site-packages/lightning_fabric/utilities/seed.py#53\u001b\\\u001b[2m53\u001b[0m\u001b]8;;\u001b\\\n"
      ]
     },
     "metadata": {},
     "output_type": "display_data"
    },
    {
     "data": {
      "text/html": [
       "<pre style=\"white-space:pre;overflow-x:auto;line-height:normal;font-family:Menlo,'DejaVu Sans Mono',consolas,'Courier New',monospace\"><span style=\"color: #7fbfbf; text-decoration-color: #7fbfbf\">           </span><span style=\"color: #000080; text-decoration-color: #000080\">INFO    </span> Setting seed <span style=\"color: #008080; text-decoration-color: #008080; font-weight: bold\">1608637542</span> from seeds<span style=\"font-weight: bold\">[</span><span style=\"color: #008080; text-decoration-color: #008080; font-weight: bold\">0</span><span style=\"font-weight: bold\">]</span>                                              <a href=\"file:///media/donato/Extra-storage/Code/model-merging/libraries/model-merging/.venv/lib/python3.11/site-packages/nn_core/common/utils.py\" target=\"_blank\"><span style=\"color: #7f7f7f; text-decoration-color: #7f7f7f\">utils.py</span></a><span style=\"color: #7f7f7f; text-decoration-color: #7f7f7f\">:</span><a href=\"file:///media/donato/Extra-storage/Code/model-merging/libraries/model-merging/.venv/lib/python3.11/site-packages/nn_core/common/utils.py#107\" target=\"_blank\"><span style=\"color: #7f7f7f; text-decoration-color: #7f7f7f\">107</span></a>\n",
       "</pre>\n"
      ],
      "text/plain": [
       "\u001b[2;36m          \u001b[0m\u001b[2;36m \u001b[0m\u001b[34mINFO    \u001b[0m Setting seed \u001b[1;36m1608637542\u001b[0m from seeds\u001b[1m[\u001b[0m\u001b[1;36m0\u001b[0m\u001b[1m]\u001b[0m                                              \u001b]8;id=323618;file:///media/donato/Extra-storage/Code/model-merging/libraries/model-merging/.venv/lib/python3.11/site-packages/nn_core/common/utils.py\u001b\\\u001b[2mutils.py\u001b[0m\u001b]8;;\u001b\\\u001b[2m:\u001b[0m\u001b]8;id=918782;file:///media/donato/Extra-storage/Code/model-merging/libraries/model-merging/.venv/lib/python3.11/site-packages/nn_core/common/utils.py#107\u001b\\\u001b[2m107\u001b[0m\u001b]8;;\u001b\\\n"
      ]
     },
     "metadata": {},
     "output_type": "display_data"
    },
    {
     "data": {
      "text/html": [
       "<pre style=\"white-space:pre;overflow-x:auto;line-height:normal;font-family:Menlo,'DejaVu Sans Mono',consolas,'Courier New',monospace\"><span style=\"color: #7fbfbf; text-decoration-color: #7fbfbf\">           </span><span style=\"color: #000080; text-decoration-color: #000080\">INFO    </span> Tags: <span style=\"font-weight: bold\">[</span><span style=\"color: #008000; text-decoration-color: #008000\">'dev'</span><span style=\"font-weight: bold\">]</span>                                                                       <a href=\"file:///media/donato/Extra-storage/Code/model-merging/libraries/model-merging/.venv/lib/python3.11/site-packages/nn_core/common/utils.py\" target=\"_blank\"><span style=\"color: #7f7f7f; text-decoration-color: #7f7f7f\">utils.py</span></a><span style=\"color: #7f7f7f; text-decoration-color: #7f7f7f\">:</span><a href=\"file:///media/donato/Extra-storage/Code/model-merging/libraries/model-merging/.venv/lib/python3.11/site-packages/nn_core/common/utils.py#96\" target=\"_blank\"><span style=\"color: #7f7f7f; text-decoration-color: #7f7f7f\">96</span></a>\n",
       "</pre>\n"
      ],
      "text/plain": [
       "\u001b[2;36m          \u001b[0m\u001b[2;36m \u001b[0m\u001b[34mINFO    \u001b[0m Tags: \u001b[1m[\u001b[0m\u001b[32m'dev'\u001b[0m\u001b[1m]\u001b[0m                                                                       \u001b]8;id=30561;file:///media/donato/Extra-storage/Code/model-merging/libraries/model-merging/.venv/lib/python3.11/site-packages/nn_core/common/utils.py\u001b\\\u001b[2mutils.py\u001b[0m\u001b]8;;\u001b\\\u001b[2m:\u001b[0m\u001b]8;id=398255;file:///media/donato/Extra-storage/Code/model-merging/libraries/model-merging/.venv/lib/python3.11/site-packages/nn_core/common/utils.py#96\u001b\\\u001b[2m96\u001b[0m\u001b]8;;\u001b\\\n"
      ]
     },
     "metadata": {},
     "output_type": "display_data"
    },
    {
     "data": {
      "text/html": [
       "<pre style=\"white-space:pre;overflow-x:auto;line-height:normal;font-family:Menlo,'DejaVu Sans Mono',consolas,'Courier New',monospace\"><span style=\"color: #7fbfbf; text-decoration-color: #7fbfbf\">           </span><span style=\"color: #000080; text-decoration-color: #000080\">INFO    </span> Instantiating <span style=\"font-weight: bold\">&lt;</span><span style=\"color: #ff00ff; text-decoration-color: #ff00ff; font-weight: bold\">WandbLogger</span><span style=\"font-weight: bold\">&gt;</span>                                                 <a href=\"file:///media/donato/Extra-storage/Code/model-merging/libraries/model-merging/.venv/lib/python3.11/site-packages/nn_core/model_logging.py\" target=\"_blank\"><span style=\"color: #7f7f7f; text-decoration-color: #7f7f7f\">model_logging.py</span></a><span style=\"color: #7f7f7f; text-decoration-color: #7f7f7f\">:</span><a href=\"file:///media/donato/Extra-storage/Code/model-merging/libraries/model-merging/.venv/lib/python3.11/site-packages/nn_core/model_logging.py#41\" target=\"_blank\"><span style=\"color: #7f7f7f; text-decoration-color: #7f7f7f\">41</span></a>\n",
       "</pre>\n"
      ],
      "text/plain": [
       "\u001b[2;36m          \u001b[0m\u001b[2;36m \u001b[0m\u001b[34mINFO    \u001b[0m Instantiating \u001b[1m<\u001b[0m\u001b[1;95mWandbLogger\u001b[0m\u001b[1m>\u001b[0m                                                 \u001b]8;id=852900;file:///media/donato/Extra-storage/Code/model-merging/libraries/model-merging/.venv/lib/python3.11/site-packages/nn_core/model_logging.py\u001b\\\u001b[2mmodel_logging.py\u001b[0m\u001b]8;;\u001b\\\u001b[2m:\u001b[0m\u001b]8;id=721902;file:///media/donato/Extra-storage/Code/model-merging/libraries/model-merging/.venv/lib/python3.11/site-packages/nn_core/model_logging.py#41\u001b\\\u001b[2m41\u001b[0m\u001b]8;;\u001b\\\n"
      ]
     },
     "metadata": {},
     "output_type": "display_data"
    },
    {
     "name": "stderr",
     "output_type": "stream",
     "text": [
      "/media/donato/Extra-storage/Code/model-merging/libraries/model-merging/.venv/lib/python3.11/site-packages/lightning/pytorch/loggers/wandb.py:395: UserWarning: There is a wandb run already in progress and newly created instances of `WandbLogger` will reuse this run. If this is not desired, call `wandb.finish()` before instantiating `WandbLogger`.\n",
      "  rank_zero_warn(\n"
     ]
    },
    {
     "data": {
      "text/html": [
       "<pre style=\"white-space:pre;overflow-x:auto;line-height:normal;font-family:Menlo,'DejaVu Sans Mono',consolas,'Courier New',monospace\"><span style=\"color: #7fbfbf; text-decoration-color: #7fbfbf\">           </span><span style=\"color: #000080; text-decoration-color: #000080\">INFO    </span> Uploading source code to W&amp;B                                                <a href=\"file:///media/donato/Extra-storage/Code/model-merging/libraries/model-merging/.venv/lib/python3.11/site-packages/nn_core/model_logging.py\" target=\"_blank\"><span style=\"color: #7f7f7f; text-decoration-color: #7f7f7f\">model_logging.py</span></a><span style=\"color: #7f7f7f; text-decoration-color: #7f7f7f\">:</span><a href=\"file:///media/donato/Extra-storage/Code/model-merging/libraries/model-merging/.venv/lib/python3.11/site-packages/nn_core/model_logging.py#63\" target=\"_blank\"><span style=\"color: #7f7f7f; text-decoration-color: #7f7f7f\">63</span></a>\n",
       "</pre>\n"
      ],
      "text/plain": [
       "\u001b[2;36m          \u001b[0m\u001b[2;36m \u001b[0m\u001b[34mINFO    \u001b[0m Uploading source code to W&B                                                \u001b]8;id=130475;file:///media/donato/Extra-storage/Code/model-merging/libraries/model-merging/.venv/lib/python3.11/site-packages/nn_core/model_logging.py\u001b\\\u001b[2mmodel_logging.py\u001b[0m\u001b]8;;\u001b\\\u001b[2m:\u001b[0m\u001b]8;id=464412;file:///media/donato/Extra-storage/Code/model-merging/libraries/model-merging/.venv/lib/python3.11/site-packages/nn_core/model_logging.py#63\u001b\\\u001b[2m63\u001b[0m\u001b]8;;\u001b\\\n"
      ]
     },
     "metadata": {},
     "output_type": "display_data"
    }
   ],
   "source": [
    "seed_index_everything(cfg)\n",
    "\n",
    "logger, template_core = boilerplate(cfg)\n",
    "\n",
    "num_tasks = len(cfg.benchmark.datasets)\n",
    "\n",
    "# Temporarily disable struct mode to allow dynamic update\n",
    "omegaconf.OmegaConf.set_struct(cfg, False)\n",
    "cfg.num_tasks = num_tasks  # Now we can safely update it\n",
    "omegaconf.OmegaConf.set_struct(cfg, True)  # Re-enable struct mode\n",
    "\n",
    "# upperbound accuracies, used for logging the normalized accuracy\n",
    "finetuned_accuracies: Dict[str, float] = get_finetuning_accuracies(\n",
    "    cfg.misc.finetuned_accuracy_path\n",
    ")[cfg.nn.encoder.model_name]"
   ]
  },
  {
   "cell_type": "markdown",
   "id": "43bbce3c",
   "metadata": {},
   "source": [
    "## Load models"
   ]
  },
  {
   "cell_type": "code",
   "execution_count": 11,
   "id": "5a9153f5",
   "metadata": {},
   "outputs": [
    {
     "data": {
      "text/html": [
       "<pre style=\"white-space:pre;overflow-x:auto;line-height:normal;font-family:Menlo,'DejaVu Sans Mono',consolas,'Courier New',monospace\"><span style=\"color: #7fbfbf; text-decoration-color: #7fbfbf\">[10:38:00] </span><span style=\"color: #000080; text-decoration-color: #000080\">INFO    </span> Loading ViT-B-<span style=\"color: #008080; text-decoration-color: #008080; font-weight: bold\">32</span> pre-trained weights.                                             <a href=\"file:///media/donato/Extra-storage/Code/model-merging/libraries/model-merging/src/model_merging/model/encoder.py\" target=\"_blank\"><span style=\"color: #7f7f7f; text-decoration-color: #7f7f7f\">encoder.py</span></a><span style=\"color: #7f7f7f; text-decoration-color: #7f7f7f\">:</span><a href=\"file:///media/donato/Extra-storage/Code/model-merging/libraries/model-merging/src/model_merging/model/encoder.py#21\" target=\"_blank\"><span style=\"color: #7f7f7f; text-decoration-color: #7f7f7f\">21</span></a>\n",
       "</pre>\n"
      ],
      "text/plain": [
       "\u001b[2;36m[10:38:00]\u001b[0m\u001b[2;36m \u001b[0m\u001b[34mINFO    \u001b[0m Loading ViT-B-\u001b[1;36m32\u001b[0m pre-trained weights.                                             \u001b]8;id=480906;file:///media/donato/Extra-storage/Code/model-merging/libraries/model-merging/src/model_merging/model/encoder.py\u001b\\\u001b[2mencoder.py\u001b[0m\u001b]8;;\u001b\\\u001b[2m:\u001b[0m\u001b]8;id=121525;file:///media/donato/Extra-storage/Code/model-merging/libraries/model-merging/src/model_merging/model/encoder.py#21\u001b\\\u001b[2m21\u001b[0m\u001b]8;;\u001b\\\n"
      ]
     },
     "metadata": {},
     "output_type": "display_data"
    },
    {
     "data": {
      "text/html": [
       "<pre style=\"white-space:pre;overflow-x:auto;line-height:normal;font-family:Menlo,'DejaVu Sans Mono',consolas,'Courier New',monospace\"><span style=\"color: #7fbfbf; text-decoration-color: #7fbfbf\">           </span><span style=\"color: #000080; text-decoration-color: #000080\">INFO    </span> Loading pretrained ViT-B-<span style=\"color: #008080; text-decoration-color: #008080; font-weight: bold\">32</span> from OpenAI.                                          <a href=\"file:///media/donato/Extra-storage/Code/model-merging/libraries/model-merging/.venv/lib/python3.11/site-packages/open_clip/factory.py\" target=\"_blank\"><span style=\"color: #7f7f7f; text-decoration-color: #7f7f7f\">factory.py</span></a><span style=\"color: #7f7f7f; text-decoration-color: #7f7f7f\">:</span><a href=\"file:///media/donato/Extra-storage/Code/model-merging/libraries/model-merging/.venv/lib/python3.11/site-packages/open_clip/factory.py#82\" target=\"_blank\"><span style=\"color: #7f7f7f; text-decoration-color: #7f7f7f\">82</span></a>\n",
       "</pre>\n"
      ],
      "text/plain": [
       "\u001b[2;36m          \u001b[0m\u001b[2;36m \u001b[0m\u001b[34mINFO    \u001b[0m Loading pretrained ViT-B-\u001b[1;36m32\u001b[0m from OpenAI.                                          \u001b]8;id=575048;file:///media/donato/Extra-storage/Code/model-merging/libraries/model-merging/.venv/lib/python3.11/site-packages/open_clip/factory.py\u001b\\\u001b[2mfactory.py\u001b[0m\u001b]8;;\u001b\\\u001b[2m:\u001b[0m\u001b]8;id=810921;file:///media/donato/Extra-storage/Code/model-merging/libraries/model-merging/.venv/lib/python3.11/site-packages/open_clip/factory.py#82\u001b\\\u001b[2m82\u001b[0m\u001b]8;;\u001b\\\n"
      ]
     },
     "metadata": {},
     "output_type": "display_data"
    },
    {
     "data": {
      "text/html": [
       "<pre style=\"white-space:pre;overflow-x:auto;line-height:normal;font-family:Menlo,'DejaVu Sans Mono',consolas,'Courier New',monospace\"><span style=\"color: #7fbfbf; text-decoration-color: #7fbfbf\">[10:38:01] </span><span style=\"color: #000080; text-decoration-color: #000080\">INFO    </span> Removing text transformer from the model.                                         <a href=\"file:///media/donato/Extra-storage/Code/model-merging/libraries/model-merging/src/model_merging/model/encoder.py\" target=\"_blank\"><span style=\"color: #7f7f7f; text-decoration-color: #7f7f7f\">encoder.py</span></a><span style=\"color: #7f7f7f; text-decoration-color: #7f7f7f\">:</span><a href=\"file:///media/donato/Extra-storage/Code/model-merging/libraries/model-merging/src/model_merging/model/encoder.py#35\" target=\"_blank\"><span style=\"color: #7f7f7f; text-decoration-color: #7f7f7f\">35</span></a>\n",
       "</pre>\n"
      ],
      "text/plain": [
       "\u001b[2;36m[10:38:01]\u001b[0m\u001b[2;36m \u001b[0m\u001b[34mINFO    \u001b[0m Removing text transformer from the model.                                         \u001b]8;id=330076;file:///media/donato/Extra-storage/Code/model-merging/libraries/model-merging/src/model_merging/model/encoder.py\u001b\\\u001b[2mencoder.py\u001b[0m\u001b]8;;\u001b\\\u001b[2m:\u001b[0m\u001b]8;id=815002;file:///media/donato/Extra-storage/Code/model-merging/libraries/model-merging/src/model_merging/model/encoder.py#35\u001b\\\u001b[2m35\u001b[0m\u001b]8;;\u001b\\\n"
      ]
     },
     "metadata": {},
     "output_type": "display_data"
    },
    {
     "data": {
      "text/html": [
       "<pre style=\"white-space:pre;overflow-x:auto;line-height:normal;font-family:Menlo,'DejaVu Sans Mono',consolas,'Courier New',monospace\"><span style=\"color: #7fbfbf; text-decoration-color: #7fbfbf\">[10:38:02] </span><span style=\"color: #000080; text-decoration-color: #000080\">INFO    </span> Loading ViT-B-<span style=\"color: #008080; text-decoration-color: #008080; font-weight: bold\">32</span> pre-trained weights.                                             <a href=\"file:///media/donato/Extra-storage/Code/model-merging/libraries/model-merging/src/model_merging/model/encoder.py\" target=\"_blank\"><span style=\"color: #7f7f7f; text-decoration-color: #7f7f7f\">encoder.py</span></a><span style=\"color: #7f7f7f; text-decoration-color: #7f7f7f\">:</span><a href=\"file:///media/donato/Extra-storage/Code/model-merging/libraries/model-merging/src/model_merging/model/encoder.py#21\" target=\"_blank\"><span style=\"color: #7f7f7f; text-decoration-color: #7f7f7f\">21</span></a>\n",
       "</pre>\n"
      ],
      "text/plain": [
       "\u001b[2;36m[10:38:02]\u001b[0m\u001b[2;36m \u001b[0m\u001b[34mINFO    \u001b[0m Loading ViT-B-\u001b[1;36m32\u001b[0m pre-trained weights.                                             \u001b]8;id=806390;file:///media/donato/Extra-storage/Code/model-merging/libraries/model-merging/src/model_merging/model/encoder.py\u001b\\\u001b[2mencoder.py\u001b[0m\u001b]8;;\u001b\\\u001b[2m:\u001b[0m\u001b]8;id=383296;file:///media/donato/Extra-storage/Code/model-merging/libraries/model-merging/src/model_merging/model/encoder.py#21\u001b\\\u001b[2m21\u001b[0m\u001b]8;;\u001b\\\n"
      ]
     },
     "metadata": {},
     "output_type": "display_data"
    },
    {
     "data": {
      "text/html": [
       "<pre style=\"white-space:pre;overflow-x:auto;line-height:normal;font-family:Menlo,'DejaVu Sans Mono',consolas,'Courier New',monospace\"><span style=\"color: #7fbfbf; text-decoration-color: #7fbfbf\">           </span><span style=\"color: #000080; text-decoration-color: #000080\">INFO    </span> Loading pretrained ViT-B-<span style=\"color: #008080; text-decoration-color: #008080; font-weight: bold\">32</span> from OpenAI.                                          <a href=\"file:///media/donato/Extra-storage/Code/model-merging/libraries/model-merging/.venv/lib/python3.11/site-packages/open_clip/factory.py\" target=\"_blank\"><span style=\"color: #7f7f7f; text-decoration-color: #7f7f7f\">factory.py</span></a><span style=\"color: #7f7f7f; text-decoration-color: #7f7f7f\">:</span><a href=\"file:///media/donato/Extra-storage/Code/model-merging/libraries/model-merging/.venv/lib/python3.11/site-packages/open_clip/factory.py#82\" target=\"_blank\"><span style=\"color: #7f7f7f; text-decoration-color: #7f7f7f\">82</span></a>\n",
       "</pre>\n"
      ],
      "text/plain": [
       "\u001b[2;36m          \u001b[0m\u001b[2;36m \u001b[0m\u001b[34mINFO    \u001b[0m Loading pretrained ViT-B-\u001b[1;36m32\u001b[0m from OpenAI.                                          \u001b]8;id=261810;file:///media/donato/Extra-storage/Code/model-merging/libraries/model-merging/.venv/lib/python3.11/site-packages/open_clip/factory.py\u001b\\\u001b[2mfactory.py\u001b[0m\u001b]8;;\u001b\\\u001b[2m:\u001b[0m\u001b]8;id=460469;file:///media/donato/Extra-storage/Code/model-merging/libraries/model-merging/.venv/lib/python3.11/site-packages/open_clip/factory.py#82\u001b\\\u001b[2m82\u001b[0m\u001b]8;;\u001b\\\n"
      ]
     },
     "metadata": {},
     "output_type": "display_data"
    },
    {
     "data": {
      "text/html": [
       "<pre style=\"white-space:pre;overflow-x:auto;line-height:normal;font-family:Menlo,'DejaVu Sans Mono',consolas,'Courier New',monospace\"><span style=\"color: #7fbfbf; text-decoration-color: #7fbfbf\">[10:38:03] </span><span style=\"color: #000080; text-decoration-color: #000080\">INFO    </span> Removing text transformer from the model.                                         <a href=\"file:///media/donato/Extra-storage/Code/model-merging/libraries/model-merging/src/model_merging/model/encoder.py\" target=\"_blank\"><span style=\"color: #7f7f7f; text-decoration-color: #7f7f7f\">encoder.py</span></a><span style=\"color: #7f7f7f; text-decoration-color: #7f7f7f\">:</span><a href=\"file:///media/donato/Extra-storage/Code/model-merging/libraries/model-merging/src/model_merging/model/encoder.py#35\" target=\"_blank\"><span style=\"color: #7f7f7f; text-decoration-color: #7f7f7f\">35</span></a>\n",
       "</pre>\n"
      ],
      "text/plain": [
       "\u001b[2;36m[10:38:03]\u001b[0m\u001b[2;36m \u001b[0m\u001b[34mINFO    \u001b[0m Removing text transformer from the model.                                         \u001b]8;id=756732;file:///media/donato/Extra-storage/Code/model-merging/libraries/model-merging/src/model_merging/model/encoder.py\u001b\\\u001b[2mencoder.py\u001b[0m\u001b]8;;\u001b\\\u001b[2m:\u001b[0m\u001b]8;id=886030;file:///media/donato/Extra-storage/Code/model-merging/libraries/model-merging/src/model_merging/model/encoder.py#35\u001b\\\u001b[2m35\u001b[0m\u001b]8;;\u001b\\\n"
      ]
     },
     "metadata": {},
     "output_type": "display_data"
    },
    {
     "data": {
      "text/html": [
       "<pre style=\"white-space:pre;overflow-x:auto;line-height:normal;font-family:Menlo,'DejaVu Sans Mono',consolas,'Courier New',monospace\"><span style=\"color: #7fbfbf; text-decoration-color: #7fbfbf\">           </span><span style=\"color: #000080; text-decoration-color: #000080\">INFO    </span> Loading ViT-B-<span style=\"color: #008080; text-decoration-color: #008080; font-weight: bold\">32</span> pre-trained weights.                                             <a href=\"file:///media/donato/Extra-storage/Code/model-merging/libraries/model-merging/src/model_merging/model/encoder.py\" target=\"_blank\"><span style=\"color: #7f7f7f; text-decoration-color: #7f7f7f\">encoder.py</span></a><span style=\"color: #7f7f7f; text-decoration-color: #7f7f7f\">:</span><a href=\"file:///media/donato/Extra-storage/Code/model-merging/libraries/model-merging/src/model_merging/model/encoder.py#21\" target=\"_blank\"><span style=\"color: #7f7f7f; text-decoration-color: #7f7f7f\">21</span></a>\n",
       "</pre>\n"
      ],
      "text/plain": [
       "\u001b[2;36m          \u001b[0m\u001b[2;36m \u001b[0m\u001b[34mINFO    \u001b[0m Loading ViT-B-\u001b[1;36m32\u001b[0m pre-trained weights.                                             \u001b]8;id=696165;file:///media/donato/Extra-storage/Code/model-merging/libraries/model-merging/src/model_merging/model/encoder.py\u001b\\\u001b[2mencoder.py\u001b[0m\u001b]8;;\u001b\\\u001b[2m:\u001b[0m\u001b]8;id=198602;file:///media/donato/Extra-storage/Code/model-merging/libraries/model-merging/src/model_merging/model/encoder.py#21\u001b\\\u001b[2m21\u001b[0m\u001b]8;;\u001b\\\n"
      ]
     },
     "metadata": {},
     "output_type": "display_data"
    },
    {
     "data": {
      "text/html": [
       "<pre style=\"white-space:pre;overflow-x:auto;line-height:normal;font-family:Menlo,'DejaVu Sans Mono',consolas,'Courier New',monospace\"><span style=\"color: #7fbfbf; text-decoration-color: #7fbfbf\">           </span><span style=\"color: #000080; text-decoration-color: #000080\">INFO    </span> Loading pretrained ViT-B-<span style=\"color: #008080; text-decoration-color: #008080; font-weight: bold\">32</span> from OpenAI.                                          <a href=\"file:///media/donato/Extra-storage/Code/model-merging/libraries/model-merging/.venv/lib/python3.11/site-packages/open_clip/factory.py\" target=\"_blank\"><span style=\"color: #7f7f7f; text-decoration-color: #7f7f7f\">factory.py</span></a><span style=\"color: #7f7f7f; text-decoration-color: #7f7f7f\">:</span><a href=\"file:///media/donato/Extra-storage/Code/model-merging/libraries/model-merging/.venv/lib/python3.11/site-packages/open_clip/factory.py#82\" target=\"_blank\"><span style=\"color: #7f7f7f; text-decoration-color: #7f7f7f\">82</span></a>\n",
       "</pre>\n"
      ],
      "text/plain": [
       "\u001b[2;36m          \u001b[0m\u001b[2;36m \u001b[0m\u001b[34mINFO    \u001b[0m Loading pretrained ViT-B-\u001b[1;36m32\u001b[0m from OpenAI.                                          \u001b]8;id=56669;file:///media/donato/Extra-storage/Code/model-merging/libraries/model-merging/.venv/lib/python3.11/site-packages/open_clip/factory.py\u001b\\\u001b[2mfactory.py\u001b[0m\u001b]8;;\u001b\\\u001b[2m:\u001b[0m\u001b]8;id=533169;file:///media/donato/Extra-storage/Code/model-merging/libraries/model-merging/.venv/lib/python3.11/site-packages/open_clip/factory.py#82\u001b\\\u001b[2m82\u001b[0m\u001b]8;;\u001b\\\n"
      ]
     },
     "metadata": {},
     "output_type": "display_data"
    },
    {
     "data": {
      "text/html": [
       "<pre style=\"white-space:pre;overflow-x:auto;line-height:normal;font-family:Menlo,'DejaVu Sans Mono',consolas,'Courier New',monospace\"><span style=\"color: #7fbfbf; text-decoration-color: #7fbfbf\">[10:38:04] </span><span style=\"color: #000080; text-decoration-color: #000080\">INFO    </span> Removing text transformer from the model.                                         <a href=\"file:///media/donato/Extra-storage/Code/model-merging/libraries/model-merging/src/model_merging/model/encoder.py\" target=\"_blank\"><span style=\"color: #7f7f7f; text-decoration-color: #7f7f7f\">encoder.py</span></a><span style=\"color: #7f7f7f; text-decoration-color: #7f7f7f\">:</span><a href=\"file:///media/donato/Extra-storage/Code/model-merging/libraries/model-merging/src/model_merging/model/encoder.py#35\" target=\"_blank\"><span style=\"color: #7f7f7f; text-decoration-color: #7f7f7f\">35</span></a>\n",
       "</pre>\n"
      ],
      "text/plain": [
       "\u001b[2;36m[10:38:04]\u001b[0m\u001b[2;36m \u001b[0m\u001b[34mINFO    \u001b[0m Removing text transformer from the model.                                         \u001b]8;id=268301;file:///media/donato/Extra-storage/Code/model-merging/libraries/model-merging/src/model_merging/model/encoder.py\u001b\\\u001b[2mencoder.py\u001b[0m\u001b]8;;\u001b\\\u001b[2m:\u001b[0m\u001b]8;id=525472;file:///media/donato/Extra-storage/Code/model-merging/libraries/model-merging/src/model_merging/model/encoder.py#35\u001b\\\u001b[2m35\u001b[0m\u001b]8;;\u001b\\\n"
      ]
     },
     "metadata": {},
     "output_type": "display_data"
    },
    {
     "data": {
      "text/html": [
       "<pre style=\"white-space:pre;overflow-x:auto;line-height:normal;font-family:Menlo,'DejaVu Sans Mono',consolas,'Courier New',monospace\"><span style=\"color: #7fbfbf; text-decoration-color: #7fbfbf\">[10:38:05] </span><span style=\"color: #000080; text-decoration-color: #000080\">INFO    </span> Loading ViT-B-<span style=\"color: #008080; text-decoration-color: #008080; font-weight: bold\">32</span> pre-trained weights.                                             <a href=\"file:///media/donato/Extra-storage/Code/model-merging/libraries/model-merging/src/model_merging/model/encoder.py\" target=\"_blank\"><span style=\"color: #7f7f7f; text-decoration-color: #7f7f7f\">encoder.py</span></a><span style=\"color: #7f7f7f; text-decoration-color: #7f7f7f\">:</span><a href=\"file:///media/donato/Extra-storage/Code/model-merging/libraries/model-merging/src/model_merging/model/encoder.py#21\" target=\"_blank\"><span style=\"color: #7f7f7f; text-decoration-color: #7f7f7f\">21</span></a>\n",
       "</pre>\n"
      ],
      "text/plain": [
       "\u001b[2;36m[10:38:05]\u001b[0m\u001b[2;36m \u001b[0m\u001b[34mINFO    \u001b[0m Loading ViT-B-\u001b[1;36m32\u001b[0m pre-trained weights.                                             \u001b]8;id=888498;file:///media/donato/Extra-storage/Code/model-merging/libraries/model-merging/src/model_merging/model/encoder.py\u001b\\\u001b[2mencoder.py\u001b[0m\u001b]8;;\u001b\\\u001b[2m:\u001b[0m\u001b]8;id=171544;file:///media/donato/Extra-storage/Code/model-merging/libraries/model-merging/src/model_merging/model/encoder.py#21\u001b\\\u001b[2m21\u001b[0m\u001b]8;;\u001b\\\n"
      ]
     },
     "metadata": {},
     "output_type": "display_data"
    },
    {
     "data": {
      "text/html": [
       "<pre style=\"white-space:pre;overflow-x:auto;line-height:normal;font-family:Menlo,'DejaVu Sans Mono',consolas,'Courier New',monospace\"><span style=\"color: #7fbfbf; text-decoration-color: #7fbfbf\">           </span><span style=\"color: #000080; text-decoration-color: #000080\">INFO    </span> Loading pretrained ViT-B-<span style=\"color: #008080; text-decoration-color: #008080; font-weight: bold\">32</span> from OpenAI.                                          <a href=\"file:///media/donato/Extra-storage/Code/model-merging/libraries/model-merging/.venv/lib/python3.11/site-packages/open_clip/factory.py\" target=\"_blank\"><span style=\"color: #7f7f7f; text-decoration-color: #7f7f7f\">factory.py</span></a><span style=\"color: #7f7f7f; text-decoration-color: #7f7f7f\">:</span><a href=\"file:///media/donato/Extra-storage/Code/model-merging/libraries/model-merging/.venv/lib/python3.11/site-packages/open_clip/factory.py#82\" target=\"_blank\"><span style=\"color: #7f7f7f; text-decoration-color: #7f7f7f\">82</span></a>\n",
       "</pre>\n"
      ],
      "text/plain": [
       "\u001b[2;36m          \u001b[0m\u001b[2;36m \u001b[0m\u001b[34mINFO    \u001b[0m Loading pretrained ViT-B-\u001b[1;36m32\u001b[0m from OpenAI.                                          \u001b]8;id=277983;file:///media/donato/Extra-storage/Code/model-merging/libraries/model-merging/.venv/lib/python3.11/site-packages/open_clip/factory.py\u001b\\\u001b[2mfactory.py\u001b[0m\u001b]8;;\u001b\\\u001b[2m:\u001b[0m\u001b]8;id=912342;file:///media/donato/Extra-storage/Code/model-merging/libraries/model-merging/.venv/lib/python3.11/site-packages/open_clip/factory.py#82\u001b\\\u001b[2m82\u001b[0m\u001b]8;;\u001b\\\n"
      ]
     },
     "metadata": {},
     "output_type": "display_data"
    },
    {
     "data": {
      "text/html": [
       "<pre style=\"white-space:pre;overflow-x:auto;line-height:normal;font-family:Menlo,'DejaVu Sans Mono',consolas,'Courier New',monospace\"><span style=\"color: #7fbfbf; text-decoration-color: #7fbfbf\">[10:38:06] </span><span style=\"color: #000080; text-decoration-color: #000080\">INFO    </span> Removing text transformer from the model.                                         <a href=\"file:///media/donato/Extra-storage/Code/model-merging/libraries/model-merging/src/model_merging/model/encoder.py\" target=\"_blank\"><span style=\"color: #7f7f7f; text-decoration-color: #7f7f7f\">encoder.py</span></a><span style=\"color: #7f7f7f; text-decoration-color: #7f7f7f\">:</span><a href=\"file:///media/donato/Extra-storage/Code/model-merging/libraries/model-merging/src/model_merging/model/encoder.py#35\" target=\"_blank\"><span style=\"color: #7f7f7f; text-decoration-color: #7f7f7f\">35</span></a>\n",
       "</pre>\n"
      ],
      "text/plain": [
       "\u001b[2;36m[10:38:06]\u001b[0m\u001b[2;36m \u001b[0m\u001b[34mINFO    \u001b[0m Removing text transformer from the model.                                         \u001b]8;id=456742;file:///media/donato/Extra-storage/Code/model-merging/libraries/model-merging/src/model_merging/model/encoder.py\u001b\\\u001b[2mencoder.py\u001b[0m\u001b]8;;\u001b\\\u001b[2m:\u001b[0m\u001b]8;id=887125;file:///media/donato/Extra-storage/Code/model-merging/libraries/model-merging/src/model_merging/model/encoder.py#35\u001b\\\u001b[2m35\u001b[0m\u001b]8;;\u001b\\\n"
      ]
     },
     "metadata": {},
     "output_type": "display_data"
    },
    {
     "data": {
      "text/html": [
       "<pre style=\"white-space:pre;overflow-x:auto;line-height:normal;font-family:Menlo,'DejaVu Sans Mono',consolas,'Courier New',monospace\"><span style=\"color: #7fbfbf; text-decoration-color: #7fbfbf\">           </span><span style=\"color: #000080; text-decoration-color: #000080\">INFO    </span> Number of tasks: <span style=\"color: #008080; text-decoration-color: #008080; font-weight: bold\">3</span>                                                             <a href=\"file:///tmp/ipykernel_4020056/2486514914.py\" target=\"_blank\"><span style=\"color: #7f7f7f; text-decoration-color: #7f7f7f\">2486514914.py</span></a><span style=\"color: #7f7f7f; text-decoration-color: #7f7f7f\">:</span><a href=\"file:///tmp/ipykernel_4020056/2486514914.py#13\" target=\"_blank\"><span style=\"color: #7f7f7f; text-decoration-color: #7f7f7f\">13</span></a>\n",
       "</pre>\n"
      ],
      "text/plain": [
       "\u001b[2;36m          \u001b[0m\u001b[2;36m \u001b[0m\u001b[34mINFO    \u001b[0m Number of tasks: \u001b[1;36m3\u001b[0m                                                             \u001b]8;id=920415;file:///tmp/ipykernel_4020056/2486514914.py\u001b\\\u001b[2m2486514914.py\u001b[0m\u001b]8;;\u001b\\\u001b[2m:\u001b[0m\u001b]8;id=726824;file:///tmp/ipykernel_4020056/2486514914.py#13\u001b\\\u001b[2m13\u001b[0m\u001b]8;;\u001b\\\n"
      ]
     },
     "metadata": {},
     "output_type": "display_data"
    },
    {
     "data": {
      "text/html": [
       "<pre style=\"white-space:pre;overflow-x:auto;line-height:normal;font-family:Menlo,'DejaVu Sans Mono',consolas,'Courier New',monospace\"><span style=\"color: #7fbfbf; text-decoration-color: #7fbfbf\">           </span><span style=\"color: #000080; text-decoration-color: #000080\">INFO    </span> Finetuned models: <span style=\"font-weight: bold\">[{</span><span style=\"color: #008000; text-decoration-color: #008000\">'_target_'</span>: <span style=\"color: #008000; text-decoration-color: #008000\">'model_merging.data.dataset.load_dataset'</span>,     <a href=\"file:///tmp/ipykernel_4020056/2486514914.py\" target=\"_blank\"><span style=\"color: #7f7f7f; text-decoration-color: #7f7f7f\">2486514914.py</span></a><span style=\"color: #7f7f7f; text-decoration-color: #7f7f7f\">:</span><a href=\"file:///tmp/ipykernel_4020056/2486514914.py#14\" target=\"_blank\"><span style=\"color: #7f7f7f; text-decoration-color: #7f7f7f\">14</span></a>\n",
       "<span style=\"color: #7fbfbf; text-decoration-color: #7fbfbf\">           </span>         <span style=\"color: #008000; text-decoration-color: #008000\">'name'</span>: <span style=\"color: #008000; text-decoration-color: #008000\">'Cars'</span>, <span style=\"color: #008000; text-decoration-color: #008000\">'preprocess_fn'</span>: <span style=\"color: #008000; text-decoration-color: #008000\">'???'</span>, <span style=\"color: #008000; text-decoration-color: #008000\">'ft_epochs'</span>: <span style=\"color: #008080; text-decoration-color: #008080; font-weight: bold\">35</span>, <span style=\"color: #008000; text-decoration-color: #008000\">'hf_dataset'</span>:         <span style=\"color: #7f7f7f; text-decoration-color: #7f7f7f\">                </span>\n",
       "<span style=\"color: #7fbfbf; text-decoration-color: #7fbfbf\">           </span>         <span style=\"font-weight: bold\">{</span><span style=\"color: #008000; text-decoration-color: #008000\">'_target_'</span>: <span style=\"color: #008000; text-decoration-color: #008000\">'datasets.load_dataset'</span>, <span style=\"color: #008000; text-decoration-color: #008000\">'path'</span>: <span style=\"color: #008000; text-decoration-color: #008000\">'tanganke/stanford_cars'</span><span style=\"font-weight: bold\">}}</span>,      <span style=\"color: #7f7f7f; text-decoration-color: #7f7f7f\">                </span>\n",
       "<span style=\"color: #7fbfbf; text-decoration-color: #7fbfbf\">           </span>         <span style=\"font-weight: bold\">{</span><span style=\"color: #008000; text-decoration-color: #008000\">'_target_'</span>: <span style=\"color: #008000; text-decoration-color: #008000\">'model_merging.data.dataset.load_dataset'</span>, <span style=\"color: #008000; text-decoration-color: #008000\">'name'</span>: <span style=\"color: #008000; text-decoration-color: #008000\">'KMNIST'</span>,      <span style=\"color: #7f7f7f; text-decoration-color: #7f7f7f\">                </span>\n",
       "<span style=\"color: #7fbfbf; text-decoration-color: #7fbfbf\">           </span>         <span style=\"color: #008000; text-decoration-color: #008000\">'ft_epochs'</span>: <span style=\"color: #008080; text-decoration-color: #008080; font-weight: bold\">5</span>, <span style=\"color: #008000; text-decoration-color: #008000\">'preprocess_fn'</span>: <span style=\"color: #008000; text-decoration-color: #008000\">'???'</span>, <span style=\"color: #008000; text-decoration-color: #008000\">'hf_dataset'</span>: <span style=\"font-weight: bold\">{</span><span style=\"color: #008000; text-decoration-color: #008000\">'_target_'</span>:             <span style=\"color: #7f7f7f; text-decoration-color: #7f7f7f\">                </span>\n",
       "<span style=\"color: #7fbfbf; text-decoration-color: #7fbfbf\">           </span>         <span style=\"color: #008000; text-decoration-color: #008000\">'datasets.load_dataset'</span>, <span style=\"color: #008000; text-decoration-color: #008000\">'path'</span>: <span style=\"color: #008000; text-decoration-color: #008000\">'tanganke/kmnist'</span><span style=\"font-weight: bold\">}}</span>, <span style=\"font-weight: bold\">{</span><span style=\"color: #008000; text-decoration-color: #008000\">'_target_'</span>:             <span style=\"color: #7f7f7f; text-decoration-color: #7f7f7f\">                </span>\n",
       "<span style=\"color: #7fbfbf; text-decoration-color: #7fbfbf\">           </span>         <span style=\"color: #008000; text-decoration-color: #008000\">'model_merging.data.dataset.load_dataset'</span>, <span style=\"color: #008000; text-decoration-color: #008000\">'name'</span>: <span style=\"color: #008000; text-decoration-color: #008000\">'RESISC45'</span>, <span style=\"color: #008000; text-decoration-color: #008000\">'ft_epochs'</span>:    <span style=\"color: #7f7f7f; text-decoration-color: #7f7f7f\">                </span>\n",
       "<span style=\"color: #7fbfbf; text-decoration-color: #7fbfbf\">           </span>         <span style=\"color: #008080; text-decoration-color: #008080; font-weight: bold\">15</span>, <span style=\"color: #008000; text-decoration-color: #008000\">'preprocess_fn'</span>: <span style=\"color: #008000; text-decoration-color: #008000\">'???'</span>, <span style=\"color: #008000; text-decoration-color: #008000\">'hf_dataset'</span>: <span style=\"font-weight: bold\">{</span><span style=\"color: #008000; text-decoration-color: #008000\">'_target_'</span>:                         <span style=\"color: #7f7f7f; text-decoration-color: #7f7f7f\">                </span>\n",
       "<span style=\"color: #7fbfbf; text-decoration-color: #7fbfbf\">           </span>         <span style=\"color: #008000; text-decoration-color: #008000\">'datasets.load_dataset'</span>, <span style=\"color: #008000; text-decoration-color: #008000\">'path'</span>: <span style=\"color: #008000; text-decoration-color: #008000\">'tanganke/resisc45'</span><span style=\"font-weight: bold\">}</span>, <span style=\"color: #008000; text-decoration-color: #008000\">'label_map'</span>: <span style=\"font-weight: bold\">{</span><span style=\"color: #008080; text-decoration-color: #008080; font-weight: bold\">0</span>: <span style=\"color: #008080; text-decoration-color: #008080; font-weight: bold\">0</span>, <span style=\"color: #008080; text-decoration-color: #008080; font-weight: bold\">1</span>:  <span style=\"color: #7f7f7f; text-decoration-color: #7f7f7f\">                </span>\n",
       "<span style=\"color: #7fbfbf; text-decoration-color: #7fbfbf\">           </span>         <span style=\"color: #008080; text-decoration-color: #008080; font-weight: bold\">2</span>, <span style=\"color: #008080; text-decoration-color: #008080; font-weight: bold\">2</span>: <span style=\"color: #008080; text-decoration-color: #008080; font-weight: bold\">3</span>, <span style=\"color: #008080; text-decoration-color: #008080; font-weight: bold\">3</span>: <span style=\"color: #008080; text-decoration-color: #008080; font-weight: bold\">5</span>, <span style=\"color: #008080; text-decoration-color: #008080; font-weight: bold\">4</span>: <span style=\"color: #008080; text-decoration-color: #008080; font-weight: bold\">6</span>, <span style=\"color: #008080; text-decoration-color: #008080; font-weight: bold\">5</span>: <span style=\"color: #008080; text-decoration-color: #008080; font-weight: bold\">7</span>, <span style=\"color: #008080; text-decoration-color: #008080; font-weight: bold\">6</span>: <span style=\"color: #008080; text-decoration-color: #008080; font-weight: bold\">9</span>, <span style=\"color: #008080; text-decoration-color: #008080; font-weight: bold\">7</span>: <span style=\"color: #008080; text-decoration-color: #008080; font-weight: bold\">10</span>, <span style=\"color: #008080; text-decoration-color: #008080; font-weight: bold\">8</span>: <span style=\"color: #008080; text-decoration-color: #008080; font-weight: bold\">11</span>, <span style=\"color: #008080; text-decoration-color: #008080; font-weight: bold\">9</span>: <span style=\"color: #008080; text-decoration-color: #008080; font-weight: bold\">12</span>, <span style=\"color: #008080; text-decoration-color: #008080; font-weight: bold\">10</span>: <span style=\"color: #008080; text-decoration-color: #008080; font-weight: bold\">13</span>, <span style=\"color: #008080; text-decoration-color: #008080; font-weight: bold\">11</span>: <span style=\"color: #008080; text-decoration-color: #008080; font-weight: bold\">14</span>, <span style=\"color: #008080; text-decoration-color: #008080; font-weight: bold\">12</span>: <span style=\"color: #008080; text-decoration-color: #008080; font-weight: bold\">15</span>,  <span style=\"color: #7f7f7f; text-decoration-color: #7f7f7f\">                </span>\n",
       "<span style=\"color: #7fbfbf; text-decoration-color: #7fbfbf\">           </span>         <span style=\"color: #008080; text-decoration-color: #008080; font-weight: bold\">13</span>: <span style=\"color: #008080; text-decoration-color: #008080; font-weight: bold\">1</span>, <span style=\"color: #008080; text-decoration-color: #008080; font-weight: bold\">14</span>: <span style=\"color: #008080; text-decoration-color: #008080; font-weight: bold\">16</span>, <span style=\"color: #008080; text-decoration-color: #008080; font-weight: bold\">15</span>: <span style=\"color: #008080; text-decoration-color: #008080; font-weight: bold\">17</span>, <span style=\"color: #008080; text-decoration-color: #008080; font-weight: bold\">16</span>: <span style=\"color: #008080; text-decoration-color: #008080; font-weight: bold\">18</span>, <span style=\"color: #008080; text-decoration-color: #008080; font-weight: bold\">17</span>: <span style=\"color: #008080; text-decoration-color: #008080; font-weight: bold\">19</span>, <span style=\"color: #008080; text-decoration-color: #008080; font-weight: bold\">18</span>: <span style=\"color: #008080; text-decoration-color: #008080; font-weight: bold\">4</span>, <span style=\"color: #008080; text-decoration-color: #008080; font-weight: bold\">19</span>: <span style=\"color: #008080; text-decoration-color: #008080; font-weight: bold\">20</span>, <span style=\"color: #008080; text-decoration-color: #008080; font-weight: bold\">20</span>: <span style=\"color: #008080; text-decoration-color: #008080; font-weight: bold\">21</span>, <span style=\"color: #008080; text-decoration-color: #008080; font-weight: bold\">21</span>: <span style=\"color: #008080; text-decoration-color: #008080; font-weight: bold\">22</span>, <span style=\"color: #008080; text-decoration-color: #008080; font-weight: bold\">22</span>: <span style=\"color: #008080; text-decoration-color: #008080; font-weight: bold\">23</span>,  <span style=\"color: #7f7f7f; text-decoration-color: #7f7f7f\">                </span>\n",
       "<span style=\"color: #7fbfbf; text-decoration-color: #7fbfbf\">           </span>         <span style=\"color: #008080; text-decoration-color: #008080; font-weight: bold\">23</span>: <span style=\"color: #008080; text-decoration-color: #008080; font-weight: bold\">24</span>, <span style=\"color: #008080; text-decoration-color: #008080; font-weight: bold\">24</span>: <span style=\"color: #008080; text-decoration-color: #008080; font-weight: bold\">25</span>, <span style=\"color: #008080; text-decoration-color: #008080; font-weight: bold\">25</span>: <span style=\"color: #008080; text-decoration-color: #008080; font-weight: bold\">26</span>, <span style=\"color: #008080; text-decoration-color: #008080; font-weight: bold\">26</span>: <span style=\"color: #008080; text-decoration-color: #008080; font-weight: bold\">27</span>, <span style=\"color: #008080; text-decoration-color: #008080; font-weight: bold\">27</span>: <span style=\"color: #008080; text-decoration-color: #008080; font-weight: bold\">28</span>, <span style=\"color: #008080; text-decoration-color: #008080; font-weight: bold\">28</span>: <span style=\"color: #008080; text-decoration-color: #008080; font-weight: bold\">29</span>, <span style=\"color: #008080; text-decoration-color: #008080; font-weight: bold\">29</span>: <span style=\"color: #008080; text-decoration-color: #008080; font-weight: bold\">30</span>, <span style=\"color: #008080; text-decoration-color: #008080; font-weight: bold\">30</span>: <span style=\"color: #008080; text-decoration-color: #008080; font-weight: bold\">31</span>, <span style=\"color: #008080; text-decoration-color: #008080; font-weight: bold\">31</span>: <span style=\"color: #008080; text-decoration-color: #008080; font-weight: bold\">32</span>, <span style=\"color: #008080; text-decoration-color: #008080; font-weight: bold\">32</span>: <span style=\"color: #008080; text-decoration-color: #008080; font-weight: bold\">8</span>, <span style=\"color: #7f7f7f; text-decoration-color: #7f7f7f\">                </span>\n",
       "<span style=\"color: #7fbfbf; text-decoration-color: #7fbfbf\">           </span>         <span style=\"color: #008080; text-decoration-color: #008080; font-weight: bold\">33</span>: <span style=\"color: #008080; text-decoration-color: #008080; font-weight: bold\">33</span>, <span style=\"color: #008080; text-decoration-color: #008080; font-weight: bold\">34</span>: <span style=\"color: #008080; text-decoration-color: #008080; font-weight: bold\">34</span>, <span style=\"color: #008080; text-decoration-color: #008080; font-weight: bold\">35</span>: <span style=\"color: #008080; text-decoration-color: #008080; font-weight: bold\">35</span>, <span style=\"color: #008080; text-decoration-color: #008080; font-weight: bold\">36</span>: <span style=\"color: #008080; text-decoration-color: #008080; font-weight: bold\">36</span>, <span style=\"color: #008080; text-decoration-color: #008080; font-weight: bold\">37</span>: <span style=\"color: #008080; text-decoration-color: #008080; font-weight: bold\">37</span>, <span style=\"color: #008080; text-decoration-color: #008080; font-weight: bold\">38</span>: <span style=\"color: #008080; text-decoration-color: #008080; font-weight: bold\">38</span>, <span style=\"color: #008080; text-decoration-color: #008080; font-weight: bold\">39</span>: <span style=\"color: #008080; text-decoration-color: #008080; font-weight: bold\">39</span>, <span style=\"color: #008080; text-decoration-color: #008080; font-weight: bold\">40</span>: <span style=\"color: #008080; text-decoration-color: #008080; font-weight: bold\">40</span>, <span style=\"color: #008080; text-decoration-color: #008080; font-weight: bold\">41</span>: <span style=\"color: #008080; text-decoration-color: #008080; font-weight: bold\">41</span>, <span style=\"color: #008080; text-decoration-color: #008080; font-weight: bold\">42</span>:    <span style=\"color: #7f7f7f; text-decoration-color: #7f7f7f\">                </span>\n",
       "<span style=\"color: #7fbfbf; text-decoration-color: #7fbfbf\">           </span>         <span style=\"color: #008080; text-decoration-color: #008080; font-weight: bold\">42</span>, <span style=\"color: #008080; text-decoration-color: #008080; font-weight: bold\">43</span>: <span style=\"color: #008080; text-decoration-color: #008080; font-weight: bold\">43</span>, <span style=\"color: #008080; text-decoration-color: #008080; font-weight: bold\">44</span>: <span style=\"color: #008080; text-decoration-color: #008080; font-weight: bold\">44</span><span style=\"font-weight: bold\">}</span>, <span style=\"color: #008000; text-decoration-color: #008000\">'classnames_override'</span>: <span style=\"font-weight: bold\">[</span><span style=\"color: #008000; text-decoration-color: #008000\">'airplane'</span>, <span style=\"color: #008000; text-decoration-color: #008000\">'forest'</span>, <span style=\"color: #008000; text-decoration-color: #008000\">'airport'</span>,  <span style=\"color: #7f7f7f; text-decoration-color: #7f7f7f\">                </span>\n",
       "<span style=\"color: #7fbfbf; text-decoration-color: #7fbfbf\">           </span>         <span style=\"color: #008000; text-decoration-color: #008000\">'baseball diamond'</span>, <span style=\"color: #008000; text-decoration-color: #008000\">'industrial area'</span>, <span style=\"color: #008000; text-decoration-color: #008000\">'basketball court'</span>, <span style=\"color: #008000; text-decoration-color: #008000\">'beach'</span>, <span style=\"color: #008000; text-decoration-color: #008000\">'bridge'</span>,  <span style=\"color: #7f7f7f; text-decoration-color: #7f7f7f\">                </span>\n",
       "<span style=\"color: #7fbfbf; text-decoration-color: #7fbfbf\">           </span>         <span style=\"color: #008000; text-decoration-color: #008000\">'river'</span>, <span style=\"color: #008000; text-decoration-color: #008000\">'chaparral'</span>, <span style=\"color: #008000; text-decoration-color: #008000\">'church'</span>, <span style=\"color: #008000; text-decoration-color: #008000\">'circular farmland'</span>, <span style=\"color: #008000; text-decoration-color: #008000\">'cloud'</span>, <span style=\"color: #008000; text-decoration-color: #008000\">'commercial </span>     <span style=\"color: #7f7f7f; text-decoration-color: #7f7f7f\">                </span>\n",
       "<span style=\"color: #7fbfbf; text-decoration-color: #7fbfbf\">           </span>         <span style=\"color: #008000; text-decoration-color: #008000\">area'</span>, <span style=\"color: #008000; text-decoration-color: #008000\">'dense residential'</span>, <span style=\"color: #008000; text-decoration-color: #008000\">'desert'</span>, <span style=\"color: #008000; text-decoration-color: #008000\">'freeway'</span>, <span style=\"color: #008000; text-decoration-color: #008000\">'golf course'</span>, <span style=\"color: #008000; text-decoration-color: #008000\">'ground track </span> <span style=\"color: #7f7f7f; text-decoration-color: #7f7f7f\">                </span>\n",
       "<span style=\"color: #7fbfbf; text-decoration-color: #7fbfbf\">           </span>         <span style=\"color: #008000; text-decoration-color: #008000\">field'</span>, <span style=\"color: #008000; text-decoration-color: #008000\">'harbor'</span>, <span style=\"color: #008000; text-decoration-color: #008000\">'intersection'</span>, <span style=\"color: #008000; text-decoration-color: #008000\">'island'</span>, <span style=\"color: #008000; text-decoration-color: #008000\">'lake'</span>, <span style=\"color: #008000; text-decoration-color: #008000\">'meadow'</span>, <span style=\"color: #008000; text-decoration-color: #008000\">'medium </span>         <span style=\"color: #7f7f7f; text-decoration-color: #7f7f7f\">                </span>\n",
       "<span style=\"color: #7fbfbf; text-decoration-color: #7fbfbf\">           </span>         <span style=\"color: #008000; text-decoration-color: #008000\">residential'</span>, <span style=\"color: #008000; text-decoration-color: #008000\">'mobile home park'</span>, <span style=\"color: #008000; text-decoration-color: #008000\">'mountain'</span>, <span style=\"color: #008000; text-decoration-color: #008000\">'overpass'</span>, <span style=\"color: #008000; text-decoration-color: #008000\">'palace'</span>, <span style=\"color: #008000; text-decoration-color: #008000\">'parking </span>  <span style=\"color: #7f7f7f; text-decoration-color: #7f7f7f\">                </span>\n",
       "<span style=\"color: #7fbfbf; text-decoration-color: #7fbfbf\">           </span>         <span style=\"color: #008000; text-decoration-color: #008000\">lot'</span>, <span style=\"color: #008000; text-decoration-color: #008000\">'railway'</span>, <span style=\"color: #008000; text-decoration-color: #008000\">'railway station'</span>, <span style=\"color: #008000; text-decoration-color: #008000\">'rectangular farmland'</span>, <span style=\"color: #008000; text-decoration-color: #008000\">'roundabout'</span>,      <span style=\"color: #7f7f7f; text-decoration-color: #7f7f7f\">                </span>\n",
       "<span style=\"color: #7fbfbf; text-decoration-color: #7fbfbf\">           </span>         <span style=\"color: #008000; text-decoration-color: #008000\">'runway'</span>, <span style=\"color: #008000; text-decoration-color: #008000\">'sea ice'</span>, <span style=\"color: #008000; text-decoration-color: #008000\">'ship'</span>, <span style=\"color: #008000; text-decoration-color: #008000\">'snowberg'</span>, <span style=\"color: #008000; text-decoration-color: #008000\">'sparse residential'</span>, <span style=\"color: #008000; text-decoration-color: #008000\">'stadium'</span>,      <span style=\"color: #7f7f7f; text-decoration-color: #7f7f7f\">                </span>\n",
       "<span style=\"color: #7fbfbf; text-decoration-color: #7fbfbf\">           </span>         <span style=\"color: #008000; text-decoration-color: #008000\">'storage tank'</span>, <span style=\"color: #008000; text-decoration-color: #008000\">'tennis court'</span>, <span style=\"color: #008000; text-decoration-color: #008000\">'terrace'</span>, <span style=\"color: #008000; text-decoration-color: #008000\">'thermal power station'</span>,            <span style=\"color: #7f7f7f; text-decoration-color: #7f7f7f\">                </span>\n",
       "<span style=\"color: #7fbfbf; text-decoration-color: #7fbfbf\">           </span>         <span style=\"color: #008000; text-decoration-color: #008000\">'wetland'</span><span style=\"font-weight: bold\">]}]</span>                                                                   <span style=\"color: #7f7f7f; text-decoration-color: #7f7f7f\">                </span>\n",
       "</pre>\n"
      ],
      "text/plain": [
       "\u001b[2;36m          \u001b[0m\u001b[2;36m \u001b[0m\u001b[34mINFO    \u001b[0m Finetuned models: \u001b[1m[\u001b[0m\u001b[1m{\u001b[0m\u001b[32m'_target_'\u001b[0m: \u001b[32m'model_merging.data.dataset.load_dataset'\u001b[0m,     \u001b]8;id=6460;file:///tmp/ipykernel_4020056/2486514914.py\u001b\\\u001b[2m2486514914.py\u001b[0m\u001b]8;;\u001b\\\u001b[2m:\u001b[0m\u001b]8;id=24388;file:///tmp/ipykernel_4020056/2486514914.py#14\u001b\\\u001b[2m14\u001b[0m\u001b]8;;\u001b\\\n",
       "\u001b[2;36m           \u001b[0m         \u001b[32m'name'\u001b[0m: \u001b[32m'Cars'\u001b[0m, \u001b[32m'preprocess_fn'\u001b[0m: \u001b[32m'???'\u001b[0m, \u001b[32m'ft_epochs'\u001b[0m: \u001b[1;36m35\u001b[0m, \u001b[32m'hf_dataset'\u001b[0m:         \u001b[2m                \u001b[0m\n",
       "\u001b[2;36m           \u001b[0m         \u001b[1m{\u001b[0m\u001b[32m'_target_'\u001b[0m: \u001b[32m'datasets.load_dataset'\u001b[0m, \u001b[32m'path'\u001b[0m: \u001b[32m'tanganke/stanford_cars'\u001b[0m\u001b[1m}\u001b[0m\u001b[1m}\u001b[0m,      \u001b[2m                \u001b[0m\n",
       "\u001b[2;36m           \u001b[0m         \u001b[1m{\u001b[0m\u001b[32m'_target_'\u001b[0m: \u001b[32m'model_merging.data.dataset.load_dataset'\u001b[0m, \u001b[32m'name'\u001b[0m: \u001b[32m'KMNIST'\u001b[0m,      \u001b[2m                \u001b[0m\n",
       "\u001b[2;36m           \u001b[0m         \u001b[32m'ft_epochs'\u001b[0m: \u001b[1;36m5\u001b[0m, \u001b[32m'preprocess_fn'\u001b[0m: \u001b[32m'???'\u001b[0m, \u001b[32m'hf_dataset'\u001b[0m: \u001b[1m{\u001b[0m\u001b[32m'_target_'\u001b[0m:             \u001b[2m                \u001b[0m\n",
       "\u001b[2;36m           \u001b[0m         \u001b[32m'datasets.load_dataset'\u001b[0m, \u001b[32m'path'\u001b[0m: \u001b[32m'tanganke/kmnist'\u001b[0m\u001b[1m}\u001b[0m\u001b[1m}\u001b[0m, \u001b[1m{\u001b[0m\u001b[32m'_target_'\u001b[0m:             \u001b[2m                \u001b[0m\n",
       "\u001b[2;36m           \u001b[0m         \u001b[32m'model_merging.data.dataset.load_dataset'\u001b[0m, \u001b[32m'name'\u001b[0m: \u001b[32m'RESISC45'\u001b[0m, \u001b[32m'ft_epochs'\u001b[0m:    \u001b[2m                \u001b[0m\n",
       "\u001b[2;36m           \u001b[0m         \u001b[1;36m15\u001b[0m, \u001b[32m'preprocess_fn'\u001b[0m: \u001b[32m'???'\u001b[0m, \u001b[32m'hf_dataset'\u001b[0m: \u001b[1m{\u001b[0m\u001b[32m'_target_'\u001b[0m:                         \u001b[2m                \u001b[0m\n",
       "\u001b[2;36m           \u001b[0m         \u001b[32m'datasets.load_dataset'\u001b[0m, \u001b[32m'path'\u001b[0m: \u001b[32m'tanganke/resisc45'\u001b[0m\u001b[1m}\u001b[0m, \u001b[32m'label_map'\u001b[0m: \u001b[1m{\u001b[0m\u001b[1;36m0\u001b[0m: \u001b[1;36m0\u001b[0m, \u001b[1;36m1\u001b[0m:  \u001b[2m                \u001b[0m\n",
       "\u001b[2;36m           \u001b[0m         \u001b[1;36m2\u001b[0m, \u001b[1;36m2\u001b[0m: \u001b[1;36m3\u001b[0m, \u001b[1;36m3\u001b[0m: \u001b[1;36m5\u001b[0m, \u001b[1;36m4\u001b[0m: \u001b[1;36m6\u001b[0m, \u001b[1;36m5\u001b[0m: \u001b[1;36m7\u001b[0m, \u001b[1;36m6\u001b[0m: \u001b[1;36m9\u001b[0m, \u001b[1;36m7\u001b[0m: \u001b[1;36m10\u001b[0m, \u001b[1;36m8\u001b[0m: \u001b[1;36m11\u001b[0m, \u001b[1;36m9\u001b[0m: \u001b[1;36m12\u001b[0m, \u001b[1;36m10\u001b[0m: \u001b[1;36m13\u001b[0m, \u001b[1;36m11\u001b[0m: \u001b[1;36m14\u001b[0m, \u001b[1;36m12\u001b[0m: \u001b[1;36m15\u001b[0m,  \u001b[2m                \u001b[0m\n",
       "\u001b[2;36m           \u001b[0m         \u001b[1;36m13\u001b[0m: \u001b[1;36m1\u001b[0m, \u001b[1;36m14\u001b[0m: \u001b[1;36m16\u001b[0m, \u001b[1;36m15\u001b[0m: \u001b[1;36m17\u001b[0m, \u001b[1;36m16\u001b[0m: \u001b[1;36m18\u001b[0m, \u001b[1;36m17\u001b[0m: \u001b[1;36m19\u001b[0m, \u001b[1;36m18\u001b[0m: \u001b[1;36m4\u001b[0m, \u001b[1;36m19\u001b[0m: \u001b[1;36m20\u001b[0m, \u001b[1;36m20\u001b[0m: \u001b[1;36m21\u001b[0m, \u001b[1;36m21\u001b[0m: \u001b[1;36m22\u001b[0m, \u001b[1;36m22\u001b[0m: \u001b[1;36m23\u001b[0m,  \u001b[2m                \u001b[0m\n",
       "\u001b[2;36m           \u001b[0m         \u001b[1;36m23\u001b[0m: \u001b[1;36m24\u001b[0m, \u001b[1;36m24\u001b[0m: \u001b[1;36m25\u001b[0m, \u001b[1;36m25\u001b[0m: \u001b[1;36m26\u001b[0m, \u001b[1;36m26\u001b[0m: \u001b[1;36m27\u001b[0m, \u001b[1;36m27\u001b[0m: \u001b[1;36m28\u001b[0m, \u001b[1;36m28\u001b[0m: \u001b[1;36m29\u001b[0m, \u001b[1;36m29\u001b[0m: \u001b[1;36m30\u001b[0m, \u001b[1;36m30\u001b[0m: \u001b[1;36m31\u001b[0m, \u001b[1;36m31\u001b[0m: \u001b[1;36m32\u001b[0m, \u001b[1;36m32\u001b[0m: \u001b[1;36m8\u001b[0m, \u001b[2m                \u001b[0m\n",
       "\u001b[2;36m           \u001b[0m         \u001b[1;36m33\u001b[0m: \u001b[1;36m33\u001b[0m, \u001b[1;36m34\u001b[0m: \u001b[1;36m34\u001b[0m, \u001b[1;36m35\u001b[0m: \u001b[1;36m35\u001b[0m, \u001b[1;36m36\u001b[0m: \u001b[1;36m36\u001b[0m, \u001b[1;36m37\u001b[0m: \u001b[1;36m37\u001b[0m, \u001b[1;36m38\u001b[0m: \u001b[1;36m38\u001b[0m, \u001b[1;36m39\u001b[0m: \u001b[1;36m39\u001b[0m, \u001b[1;36m40\u001b[0m: \u001b[1;36m40\u001b[0m, \u001b[1;36m41\u001b[0m: \u001b[1;36m41\u001b[0m, \u001b[1;36m42\u001b[0m:    \u001b[2m                \u001b[0m\n",
       "\u001b[2;36m           \u001b[0m         \u001b[1;36m42\u001b[0m, \u001b[1;36m43\u001b[0m: \u001b[1;36m43\u001b[0m, \u001b[1;36m44\u001b[0m: \u001b[1;36m44\u001b[0m\u001b[1m}\u001b[0m, \u001b[32m'classnames_override'\u001b[0m: \u001b[1m[\u001b[0m\u001b[32m'airplane'\u001b[0m, \u001b[32m'forest'\u001b[0m, \u001b[32m'airport'\u001b[0m,  \u001b[2m                \u001b[0m\n",
       "\u001b[2;36m           \u001b[0m         \u001b[32m'baseball diamond'\u001b[0m, \u001b[32m'industrial area'\u001b[0m, \u001b[32m'basketball court'\u001b[0m, \u001b[32m'beach'\u001b[0m, \u001b[32m'bridge'\u001b[0m,  \u001b[2m                \u001b[0m\n",
       "\u001b[2;36m           \u001b[0m         \u001b[32m'river'\u001b[0m, \u001b[32m'chaparral'\u001b[0m, \u001b[32m'church'\u001b[0m, \u001b[32m'circular farmland'\u001b[0m, \u001b[32m'cloud'\u001b[0m, \u001b[32m'commercial \u001b[0m     \u001b[2m                \u001b[0m\n",
       "\u001b[2;36m           \u001b[0m         \u001b[32marea'\u001b[0m, \u001b[32m'dense residential'\u001b[0m, \u001b[32m'desert'\u001b[0m, \u001b[32m'freeway'\u001b[0m, \u001b[32m'golf course'\u001b[0m, \u001b[32m'ground track \u001b[0m \u001b[2m                \u001b[0m\n",
       "\u001b[2;36m           \u001b[0m         \u001b[32mfield'\u001b[0m, \u001b[32m'harbor'\u001b[0m, \u001b[32m'intersection'\u001b[0m, \u001b[32m'island'\u001b[0m, \u001b[32m'lake'\u001b[0m, \u001b[32m'meadow'\u001b[0m, \u001b[32m'medium \u001b[0m         \u001b[2m                \u001b[0m\n",
       "\u001b[2;36m           \u001b[0m         \u001b[32mresidential'\u001b[0m, \u001b[32m'mobile home park'\u001b[0m, \u001b[32m'mountain'\u001b[0m, \u001b[32m'overpass'\u001b[0m, \u001b[32m'palace'\u001b[0m, \u001b[32m'parking \u001b[0m  \u001b[2m                \u001b[0m\n",
       "\u001b[2;36m           \u001b[0m         \u001b[32mlot'\u001b[0m, \u001b[32m'railway'\u001b[0m, \u001b[32m'railway station'\u001b[0m, \u001b[32m'rectangular farmland'\u001b[0m, \u001b[32m'roundabout'\u001b[0m,      \u001b[2m                \u001b[0m\n",
       "\u001b[2;36m           \u001b[0m         \u001b[32m'runway'\u001b[0m, \u001b[32m'sea ice'\u001b[0m, \u001b[32m'ship'\u001b[0m, \u001b[32m'snowberg'\u001b[0m, \u001b[32m'sparse residential'\u001b[0m, \u001b[32m'stadium'\u001b[0m,      \u001b[2m                \u001b[0m\n",
       "\u001b[2;36m           \u001b[0m         \u001b[32m'storage tank'\u001b[0m, \u001b[32m'tennis court'\u001b[0m, \u001b[32m'terrace'\u001b[0m, \u001b[32m'thermal power station'\u001b[0m,            \u001b[2m                \u001b[0m\n",
       "\u001b[2;36m           \u001b[0m         \u001b[32m'wetland'\u001b[0m\u001b[1m]\u001b[0m\u001b[1m}\u001b[0m\u001b[1m]\u001b[0m                                                                   \u001b[2m                \u001b[0m\n"
      ]
     },
     "metadata": {},
     "output_type": "display_data"
    }
   ],
   "source": [
    "# only has vision encoder, no text transformer\n",
    "base_model: ImageEncoder = load_model_from_hf(\n",
    "    model_name=cfg.nn.encoder.model_name\n",
    ")\n",
    "\n",
    "finetuned_models = {\n",
    "    dataset: load_model_from_hf(\n",
    "        model_name=cfg.nn.encoder.model_name, dataset_name=dataset.name\n",
    "    ).state_dict()\n",
    "    for dataset in cfg.benchmark.datasets\n",
    "}\n",
    "\n",
    "pylogger.info(f\"Number of tasks: {cfg.num_tasks}\")\n",
    "pylogger.info(f\"Finetuned models: {list(finetuned_models.keys())}\")\n"
   ]
  },
  {
   "cell_type": "markdown",
   "id": "2fc92ed5",
   "metadata": {},
   "source": [
    "## Merging"
   ]
  },
  {
   "cell_type": "code",
   "execution_count": 12,
   "id": "1fe1629b",
   "metadata": {},
   "outputs": [],
   "source": [
    "non_matrix_params_aggregation = 'mean'\n",
    "compression_ratio = 1 / len(cfg.benchmark.datasets)"
   ]
  },
  {
   "cell_type": "code",
   "execution_count": 13,
   "id": "ee18708d",
   "metadata": {},
   "outputs": [
    {
     "data": {
      "text/html": [
       "<pre style=\"white-space:pre;overflow-x:auto;line-height:normal;font-family:Menlo,'DejaVu Sans Mono',consolas,'Courier New',monospace\"><span style=\"color: #7fbfbf; text-decoration-color: #7fbfbf\">[10:44:46] </span><span style=\"color: #800000; text-decoration-color: #800000\">WARNING </span> after computing task dicts -- memory in MB: <span style=\"color: #008080; text-decoration-color: #008080; font-weight: bold\">4819.03515625</span>                           <a href=\"file:///media/donato/Extra-storage/Code/model-merging/libraries/model-merging/src/model_merging/utils/utils.py\" target=\"_blank\"><span style=\"color: #7f7f7f; text-decoration-color: #7f7f7f\">utils.py</span></a><span style=\"color: #7f7f7f; text-decoration-color: #7f7f7f\">:</span><a href=\"file:///media/donato/Extra-storage/Code/model-merging/libraries/model-merging/src/model_merging/utils/utils.py#23\" target=\"_blank\"><span style=\"color: #7f7f7f; text-decoration-color: #7f7f7f\">23</span></a>\n",
       "</pre>\n"
      ],
      "text/plain": [
       "\u001b[2;36m[10:44:46]\u001b[0m\u001b[2;36m \u001b[0m\u001b[31mWARNING \u001b[0m after computing task dicts -- memory in MB: \u001b[1;36m4819.03515625\u001b[0m                           \u001b]8;id=150796;file:///media/donato/Extra-storage/Code/model-merging/libraries/model-merging/src/model_merging/utils/utils.py\u001b\\\u001b[2mutils.py\u001b[0m\u001b]8;;\u001b\\\u001b[2m:\u001b[0m\u001b]8;id=245074;file:///media/donato/Extra-storage/Code/model-merging/libraries/model-merging/src/model_merging/utils/utils.py#23\u001b\\\u001b[2m23\u001b[0m\u001b]8;;\u001b\\\n"
      ]
     },
     "metadata": {},
     "output_type": "display_data"
    }
   ],
   "source": [
    "from model_merging.merging.structured import aggregate_decomposed_task_vectors, decompose_task_vectors, get_svd_dict\n",
    "from model_merging.utils.utils import apply_dict_to_model, compute_task_dict\n",
    "\n",
    "task_dicts = {}\n",
    "\n",
    "for dataset in cfg.benchmark.datasets:\n",
    "    task_dicts[dataset] = compute_task_dict(\n",
    "        base_model.state_dict(), finetuned_models[dataset]\n",
    "    )\n",
    "    del finetuned_models[dataset]  # Delete one model at a time\n",
    "    torch.cuda.empty_cache()\n",
    "\n",
    "print_memory(\"after computing task dicts\")"
   ]
  },
  {
   "cell_type": "code",
   "execution_count": 14,
   "id": "a8d0ea6f",
   "metadata": {},
   "outputs": [
    {
     "name": "stderr",
     "output_type": "stream",
     "text": [
      "Computing and compressing SVD: 100%|██████████| 3/3 [00:12<00:00,  4.24s/it]\n",
      "Summing SVD: 100%|██████████| 158/158 [00:06<00:00, 23.47it/s]\n"
     ]
    }
   ],
   "source": [
    "decomposed_task_vectors = decompose_task_vectors(task_dicts, compression_ratio)\n",
    "\n",
    "multi_task_vector = aggregate_decomposed_task_vectors(\n",
    "    ref_state_dict=copy.deepcopy(base_model.state_dict()),\n",
    "    decomposed_task_vectors=decomposed_task_vectors,\n",
    "    non_matrix_params_aggregation=non_matrix_params_aggregation\n",
    ")"
   ]
  },
  {
   "cell_type": "code",
   "execution_count": 15,
   "id": "d7e23934",
   "metadata": {},
   "outputs": [],
   "source": [
    "merged_encoder: ImageEncoder = copy.deepcopy(base_model)\n",
    "\n",
    "merged_encoder = apply_dict_to_model(\n",
    "    multi_task_vector,\n",
    "    merged_encoder,\n",
    ")"
   ]
  },
  {
   "cell_type": "code",
   "execution_count": null,
   "id": "15a633d8",
   "metadata": {},
   "outputs": [],
   "source": [
    "results = {}\n",
    "print_memory(\"before eval\")\n",
    "for dataset_cfg in cfg.benchmark.datasets:\n",
    "\n",
    "    dataset = instantiate(\n",
    "        dataset_cfg, preprocess_fn=base_model.val_preprocess\n",
    "    )\n",
    "\n",
    "    classification_head = get_classification_head(\n",
    "        cfg.nn.encoder.model_name,\n",
    "        dataset_cfg.name,\n",
    "        ckpt_path=cfg.misc.ckpt_path,\n",
    "        openclip_cachedir=cfg.misc.openclip_cachedir,\n",
    "        device=cfg.device,\n",
    "    )\n",
    "\n",
    "    model = ImageClassifier(\n",
    "        encoder=merged_encoder,\n",
    "        classifier=classification_head,\n",
    "        x_key=cfg.conventions.x_key,\n",
    "        y_key=cfg.conventions.y_key,\n",
    "    )\n",
    "\n",
    "    model.set_metrics(len(dataset.classnames))\n",
    "    model.set_task(dataset_cfg.name)\n",
    "    model.set_finetuning_accuracy(\n",
    "        finetuned_accuracies[\n",
    "            dataset_cfg.name + \"Val\" if cfg.eval_on_train else dataset_cfg.name\n",
    "        ]\n",
    "    )\n",
    "\n",
    "    callbacks: List[Callback] = build_callbacks(cfg.train.callbacks, template_core)\n",
    "\n",
    "    trainer = pl.Trainer(\n",
    "        default_root_dir=cfg.core.storage_dir,\n",
    "        plugins=[NNCheckpointIO(jailing_dir=logger.run_dir)],\n",
    "        logger=logger,\n",
    "        callbacks=callbacks,\n",
    "        limit_test_batches=(\n",
    "            cfg.number_of_train_batches if cfg.eval_on_train else None\n",
    "        ),\n",
    "        **cfg.train.trainer,\n",
    "    )\n",
    "\n",
    "    if cfg.eval_on_train:\n",
    "        pylogger.error(\"For now evaluation supported only on val-set\")\n",
    "        pylogger.info(f\"Evaluating on {dataset_cfg.name} the training set\")\n",
    "        test_results = trainer.test(model=model, dataloaders=dataset.train_loader)\n",
    "\n",
    "    else:\n",
    "        pylogger.info(f\"Evaluating on the {dataset_cfg.name} test set!\")\n",
    "        test_results = trainer.test(model=model, dataloaders=dataset.test_loader)\n",
    "\n",
    "    results[dataset_cfg.name] = test_results\n",
    "\n",
    "avg = compute_avg_accuracy(results)\n",
    "results[\"avg\"] = [\n",
    "    avg\n",
    "]  # as a list for consistency due to lightning logging stuff this way\n",
    "\n",
    "logger.experiment.log(avg)\n",
    "\n",
    "pylogger.info(results)"
   ]
  }
 ],
 "metadata": {
  "kernelspec": {
   "display_name": "model-merging",
   "language": "python",
   "name": "python3"
  },
  "language_info": {
   "codemirror_mode": {
    "name": "ipython",
    "version": 3
   },
   "file_extension": ".py",
   "mimetype": "text/x-python",
   "name": "python",
   "nbconvert_exporter": "python",
   "pygments_lexer": "ipython3",
   "version": "3.11.8"
  }
 },
 "nbformat": 4,
 "nbformat_minor": 5
}
